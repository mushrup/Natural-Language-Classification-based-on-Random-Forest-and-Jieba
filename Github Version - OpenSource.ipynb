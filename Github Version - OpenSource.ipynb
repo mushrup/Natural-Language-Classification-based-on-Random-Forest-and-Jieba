{
 "cells": [
  {
   "cell_type": "code",
   "execution_count": 242,
   "metadata": {},
   "outputs": [],
   "source": [
    "import jieba\n",
    "from jieba import analyse\n",
    "import pandas as pd\n",
    "import jieba.posseg as pseg\n",
    "from sklearn.ensemble import RandomForestClassifier,GradientBoostingClassifier\n",
    "from sklearn.metrics import accuracy_score\n",
    "from sklearn.model_selection import train_test_split\n",
    "import matplotlib.pyplot as plt\n",
    "import numpy as np"
   ]
  },
  {
   "cell_type": "code",
   "execution_count": 55,
   "metadata": {},
   "outputs": [],
   "source": [
    "def GetTopX(df,X_str,s,number):\n",
    "    number= 50\n",
    "    s=\"。\".join(df[X_str][:100].fillna(\"\").values.tolist())\n",
    "    return GetNounList(s,number)\n",
    "\n",
    "def GetTopNoun(s,number):\n",
    "    res = pseg.cut(s)\n",
    "    dic = {}\n",
    "    for w in res:\n",
    "        if w.flag in ['n']:\n",
    "            if w.word in dic:\n",
    "                dic[w.word] += 1\n",
    "            else:\n",
    "                dic[w.word] = 1\n",
    "                \n",
    "    return sorted(dic.items(), key=lambda x:x[1],reverse=True)[:number]\n",
    "\n",
    "def GetNounList(s,number):\n",
    "    lis = []\n",
    "    word_lis = GetTopNoun(s,number)\n",
    "    for i in range(len(word_lis)):\n",
    "        lis.append(word_lis[i][0])\n",
    "    return lis"
   ]
  },
  {
   "cell_type": "code",
   "execution_count": 174,
   "metadata": {},
   "outputs": [],
   "source": [
    "def AddWordFrequency2Df(df,number,row_number,Xstr,Xorder,lis):\n",
    "    for ind, row in df.iterrows():\n",
    "        row_s = row[Xstr]\n",
    "        if isinstance(row_s, str):\n",
    "            for word in lis:\n",
    "                row_lis = GetTopNoun(row_s,row_number)\n",
    "                try:\n",
    "                    df.at[ind, str(Xorder)+\"_\"+word] = dict(row_lis)[word]\n",
    "                except:\n",
    "                    df.at[ind, str(Xorder)+\"_\"+word] = 0\n",
    "        else:\n",
    "            df.at[ind, str(Xorder)+\"_\"+word] = 0\n",
    "    return df"
   ]
  },
  {
   "cell_type": "code",
   "execution_count": 182,
   "metadata": {},
   "outputs": [],
   "source": [
    "def GetTunedX(full_df,df,Xstr_list,number_list,row_number_list):\n",
    "    ori_Xlen = len(df.columns.values)\n",
    "    for indx in range(len(Xstr_list)):\n",
    "        lis = GetTopX(full_df,Xstr,s,number_list[indx])\n",
    "        df = AddWordFrequency2Df(df,number_list[indx],row_number_list[indx],Xstr_list[indx],indx,lis)\n",
    "    return df.iloc[:,ori_Xlen:].fillna(0)"
   ]
  },
  {
   "cell_type": "code",
   "execution_count": 256,
   "metadata": {},
   "outputs": [],
   "source": [
    "def AddDummy(df,Dummystr):\n",
    "    for ind,row in df.iterrows():\n",
    "        if type(row[Dummystr]) is str:\n",
    "            if row[Dummystr].startswith('9'):\n",
    "                df.at[ind, 'dm_'+Dummystr] = 1\n",
    "            else:\n",
    "                df.at[ind, 'dm_'+Dummystr] = 0\n",
    "        else:\n",
    "            df.at[ind, 'dm_'+Dummystr] = 0\n",
    "    return df['dm_'+Dummystr]"
   ]
  },
  {
   "cell_type": "code",
   "execution_count": 257,
   "metadata": {},
   "outputs": [],
   "source": [
    "def GBCTextFit(full_df,df,Xstr_list,Ystr,number_list,row_number_list):\n",
    "    global Dummystr\n",
    "    df_X = GetTunedX(full_df,df,Xstr_list,number_list,row_number_list)\n",
    "    df_X = pd.concat([df_X,AddDummy(df,Dummystr)],axis=1)\n",
    "    df_Y = df[Ystr]\n",
    "    gb_clf = GradientBoostingClassifier(n_estimators=500,learning_rate=0.1)\n",
    "    gb_clf.fit(df_X, df_Y)\n",
    "    return gb_clf"
   ]
  },
  {
   "cell_type": "code",
   "execution_count": 258,
   "metadata": {},
   "outputs": [],
   "source": [
    "def RFTextFit(full_df,df,Xstr_list,Ystr,number_list,row_number_list):\n",
    "    global Dummystr\n",
    "    df_X = GetTunedX(full_df,df,Xstr_list,number_list,row_number_list)\n",
    "    df_X = pd.concat([df_X,AddDummy(df,Dummystr)],axis=1)\n",
    "    df_Y = df[Ystr]\n",
    "    gb_clf = RandomForestClassifier(n_estimators=500)\n",
    "    gb_clf.fit(df_X, df_Y)\n",
    "    return gb_clf"
   ]
  },
  {
   "cell_type": "code",
   "execution_count": 265,
   "metadata": {},
   "outputs": [
    {
     "name": "stderr",
     "output_type": "stream",
     "text": [
      "c:\\users\\erin\\appdata\\local\\programs\\python\\python36\\lib\\site-packages\\pandas\\core\\indexing.py:362: SettingWithCopyWarning: \n",
      "A value is trying to be set on a copy of a slice from a DataFrame.\n",
      "Try using .loc[row_indexer,col_indexer] = value instead\n",
      "\n",
      "See the caveats in the documentation: http://pandas.pydata.org/pandas-docs/stable/user_guide/indexing.html#returning-a-view-versus-a-copy\n",
      "  self.obj[key] = _infer_fill_value(value)\n",
      "c:\\users\\erin\\appdata\\local\\programs\\python\\python36\\lib\\site-packages\\pandas\\core\\indexing.py:480: SettingWithCopyWarning: \n",
      "A value is trying to be set on a copy of a slice from a DataFrame.\n",
      "Try using .loc[row_indexer,col_indexer] = value instead\n",
      "\n",
      "See the caveats in the documentation: http://pandas.pydata.org/pandas-docs/stable/user_guide/indexing.html#returning-a-view-versus-a-copy\n",
      "  self.obj[item] = s\n",
      "c:\\users\\erin\\appdata\\local\\programs\\python\\python36\\lib\\site-packages\\pandas\\core\\indexing.py:362: SettingWithCopyWarning: \n",
      "A value is trying to be set on a copy of a slice from a DataFrame.\n",
      "Try using .loc[row_indexer,col_indexer] = value instead\n",
      "\n",
      "See the caveats in the documentation: http://pandas.pydata.org/pandas-docs/stable/user_guide/indexing.html#returning-a-view-versus-a-copy\n",
      "  self.obj[key] = _infer_fill_value(value)\n",
      "c:\\users\\erin\\appdata\\local\\programs\\python\\python36\\lib\\site-packages\\pandas\\core\\indexing.py:480: SettingWithCopyWarning: \n",
      "A value is trying to be set on a copy of a slice from a DataFrame.\n",
      "Try using .loc[row_indexer,col_indexer] = value instead\n",
      "\n",
      "See the caveats in the documentation: http://pandas.pydata.org/pandas-docs/stable/user_guide/indexing.html#returning-a-view-versus-a-copy\n",
      "  self.obj[item] = s\n"
     ]
    }
   ],
   "source": [
    "## Input: df, string of X's, string of Y\n",
    "df = pd.read_excel(\"山东_公司数据.xlsx\",sheet_name=\"筛选过程\")[:500]\n",
    "Ystr = '是否是民营口腔医院\\n或者诊所'\n",
    "Xstr_list = ['公司名称','经营范围']\n",
    "Dummystr = '统一社会信用代码'\n",
    "number_list = [110,110]\n",
    "row_number_list = [22,22]\n",
    "acc_train = []\n",
    "acc_test = []\n",
    "train, test = train_test_split(df, test_size=0.2, random_state=2019)\n",
    "for i in range(110,120,3):\n",
    "    number_list[0]=i\n",
    "    number_list[1]=i\n",
    "    model=RFTextFit(df[:],train,Xstr_list,Ystr,number_list,row_number_list)\n",
    "    test_X = GetTunedX(df[:],test,Xstr_list,number_list,row_number_list)\n",
    "    test_X = pd.concat([test_X,AddDummy(test,Dummystr)],axis=1)\n",
    "    acc_test.append(accuracy_score(test[Ystr], model.predict(test_X)).round(4))"
   ]
  },
  {
   "cell_type": "code",
   "execution_count": 266,
   "metadata": {},
   "outputs": [
    {
     "data": {
      "image/png": "[encoded data removed]",
      "text/plain": [
       "<Figure size 432x288 with 1 Axes>"
      ]
     },
     "metadata": {
      "needs_background": "light"
     },
     "output_type": "display_data"
    }
   ],
   "source": [
    "plt.figure()\n",
    "plt.plot(range(110,120,3),acc_test,c='r',label='test')\n",
    "plt.xlabel('subsample')\n",
    "plt.ylabel('Accuracy')\n",
    "plt.legend()\n",
    "plt.show()"
   ]
  },
  {
   "cell_type": "code",
   "execution_count": null,
   "metadata": {},
   "outputs": [],
   "source": []
  },
  {
   "cell_type": "code",
   "execution_count": null,
   "metadata": {},
   "outputs": [],
   "source": []
  }
 ],
 "metadata": {
  "kernelspec": {
   "display_name": "Python 3",
   "language": "python",
   "name": "python3"
  },
  "language_info": {
   "codemirror_mode": {
    "name": "ipython",
    "version": 3
   },
   "file_extension": ".py",
   "mimetype": "text/x-python",
   "name": "python",
   "nbconvert_exporter": "python",
   "pygments_lexer": "ipython3",
   "version": "3.6.1"
  }
 },
 "nbformat": 4,
 "nbformat_minor": 2
}
